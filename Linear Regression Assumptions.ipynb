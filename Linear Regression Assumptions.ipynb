{
 "cells": [
  {
   "cell_type": "code",
   "execution_count": 1,
   "metadata": {},
   "outputs": [],
   "source": [
    "# This file is used to prove that Linear Regression can be used on the data\n",
    "import numpy as np\n",
    "import matplotlib.pyplot as plt\n",
    "import pandas as pd\n",
    "import seaborn as sns\n",
    "import sqlite3"
   ]
  },
  {
   "cell_type": "code",
   "execution_count": 2,
   "metadata": {},
   "outputs": [
    {
     "data": {
      "text/html": [
       "<div>\n",
       "<style scoped>\n",
       "    .dataframe tbody tr th:only-of-type {\n",
       "        vertical-align: middle;\n",
       "    }\n",
       "\n",
       "    .dataframe tbody tr th {\n",
       "        vertical-align: top;\n",
       "    }\n",
       "\n",
       "    .dataframe thead th {\n",
       "        text-align: right;\n",
       "    }\n",
       "</style>\n",
       "<table border=\"1\" class=\"dataframe\">\n",
       "  <thead>\n",
       "    <tr style=\"text-align: right;\">\n",
       "      <th></th>\n",
       "      <th>id</th>\n",
       "      <th>name</th>\n",
       "      <th>carbohydrates</th>\n",
       "      <th>protein</th>\n",
       "      <th>fat</th>\n",
       "      <th>calories</th>\n",
       "      <th>sugar</th>\n",
       "    </tr>\n",
       "  </thead>\n",
       "  <tbody>\n",
       "    <tr>\n",
       "      <th>0</th>\n",
       "      <td>1</td>\n",
       "      <td>Apple</td>\n",
       "      <td>11.40</td>\n",
       "      <td>0.30</td>\n",
       "      <td>0.40</td>\n",
       "      <td>52.0</td>\n",
       "      <td>10.30</td>\n",
       "    </tr>\n",
       "    <tr>\n",
       "      <th>1</th>\n",
       "      <td>2</td>\n",
       "      <td>Apricot</td>\n",
       "      <td>3.90</td>\n",
       "      <td>0.50</td>\n",
       "      <td>0.10</td>\n",
       "      <td>15.0</td>\n",
       "      <td>3.20</td>\n",
       "    </tr>\n",
       "    <tr>\n",
       "      <th>2</th>\n",
       "      <td>3</td>\n",
       "      <td>Banana</td>\n",
       "      <td>22.00</td>\n",
       "      <td>1.00</td>\n",
       "      <td>0.20</td>\n",
       "      <td>96.0</td>\n",
       "      <td>17.20</td>\n",
       "    </tr>\n",
       "    <tr>\n",
       "      <th>3</th>\n",
       "      <td>4</td>\n",
       "      <td>Blackberry</td>\n",
       "      <td>9.00</td>\n",
       "      <td>1.30</td>\n",
       "      <td>0.40</td>\n",
       "      <td>40.0</td>\n",
       "      <td>4.50</td>\n",
       "    </tr>\n",
       "    <tr>\n",
       "      <th>4</th>\n",
       "      <td>5</td>\n",
       "      <td>Blueberry</td>\n",
       "      <td>5.50</td>\n",
       "      <td>0.00</td>\n",
       "      <td>0.40</td>\n",
       "      <td>29.0</td>\n",
       "      <td>5.40</td>\n",
       "    </tr>\n",
       "    <tr>\n",
       "      <th>5</th>\n",
       "      <td>6</td>\n",
       "      <td>Cherry</td>\n",
       "      <td>12.00</td>\n",
       "      <td>1.00</td>\n",
       "      <td>0.30</td>\n",
       "      <td>50.0</td>\n",
       "      <td>8.00</td>\n",
       "    </tr>\n",
       "    <tr>\n",
       "      <th>6</th>\n",
       "      <td>7</td>\n",
       "      <td>Durian</td>\n",
       "      <td>27.10</td>\n",
       "      <td>1.50</td>\n",
       "      <td>5.30</td>\n",
       "      <td>147.0</td>\n",
       "      <td>6.75</td>\n",
       "    </tr>\n",
       "    <tr>\n",
       "      <th>7</th>\n",
       "      <td>8</td>\n",
       "      <td>Fig</td>\n",
       "      <td>19.00</td>\n",
       "      <td>0.80</td>\n",
       "      <td>0.30</td>\n",
       "      <td>74.0</td>\n",
       "      <td>16.00</td>\n",
       "    </tr>\n",
       "    <tr>\n",
       "      <th>8</th>\n",
       "      <td>9</td>\n",
       "      <td>Gooseberry</td>\n",
       "      <td>10.00</td>\n",
       "      <td>0.90</td>\n",
       "      <td>0.60</td>\n",
       "      <td>44.0</td>\n",
       "      <td>0.00</td>\n",
       "    </tr>\n",
       "    <tr>\n",
       "      <th>9</th>\n",
       "      <td>10</td>\n",
       "      <td>Grapes</td>\n",
       "      <td>18.10</td>\n",
       "      <td>0.72</td>\n",
       "      <td>0.16</td>\n",
       "      <td>69.0</td>\n",
       "      <td>15.48</td>\n",
       "    </tr>\n",
       "    <tr>\n",
       "      <th>10</th>\n",
       "      <td>11</td>\n",
       "      <td>GreenApple</td>\n",
       "      <td>3.10</td>\n",
       "      <td>0.40</td>\n",
       "      <td>0.10</td>\n",
       "      <td>21.0</td>\n",
       "      <td>6.40</td>\n",
       "    </tr>\n",
       "    <tr>\n",
       "      <th>11</th>\n",
       "      <td>12</td>\n",
       "      <td>Guava</td>\n",
       "      <td>14.00</td>\n",
       "      <td>2.60</td>\n",
       "      <td>1.00</td>\n",
       "      <td>68.0</td>\n",
       "      <td>9.00</td>\n",
       "    </tr>\n",
       "    <tr>\n",
       "      <th>12</th>\n",
       "      <td>13</td>\n",
       "      <td>Kiwi</td>\n",
       "      <td>15.00</td>\n",
       "      <td>1.10</td>\n",
       "      <td>0.50</td>\n",
       "      <td>61.0</td>\n",
       "      <td>9.00</td>\n",
       "    </tr>\n",
       "    <tr>\n",
       "      <th>13</th>\n",
       "      <td>14</td>\n",
       "      <td>Lemon</td>\n",
       "      <td>9.00</td>\n",
       "      <td>1.10</td>\n",
       "      <td>0.30</td>\n",
       "      <td>29.0</td>\n",
       "      <td>2.50</td>\n",
       "    </tr>\n",
       "    <tr>\n",
       "      <th>14</th>\n",
       "      <td>15</td>\n",
       "      <td>Lime</td>\n",
       "      <td>8.40</td>\n",
       "      <td>0.30</td>\n",
       "      <td>0.10</td>\n",
       "      <td>25.0</td>\n",
       "      <td>1.70</td>\n",
       "    </tr>\n",
       "    <tr>\n",
       "      <th>15</th>\n",
       "      <td>16</td>\n",
       "      <td>Lingonberry</td>\n",
       "      <td>11.30</td>\n",
       "      <td>0.75</td>\n",
       "      <td>0.34</td>\n",
       "      <td>50.0</td>\n",
       "      <td>5.74</td>\n",
       "    </tr>\n",
       "    <tr>\n",
       "      <th>16</th>\n",
       "      <td>17</td>\n",
       "      <td>Lychee</td>\n",
       "      <td>17.00</td>\n",
       "      <td>0.80</td>\n",
       "      <td>0.44</td>\n",
       "      <td>66.0</td>\n",
       "      <td>15.00</td>\n",
       "    </tr>\n",
       "    <tr>\n",
       "      <th>17</th>\n",
       "      <td>18</td>\n",
       "      <td>Mango</td>\n",
       "      <td>15.00</td>\n",
       "      <td>0.82</td>\n",
       "      <td>0.38</td>\n",
       "      <td>60.0</td>\n",
       "      <td>13.70</td>\n",
       "    </tr>\n",
       "    <tr>\n",
       "      <th>18</th>\n",
       "      <td>19</td>\n",
       "      <td>Melon</td>\n",
       "      <td>8.00</td>\n",
       "      <td>0.00</td>\n",
       "      <td>0.00</td>\n",
       "      <td>34.0</td>\n",
       "      <td>8.00</td>\n",
       "    </tr>\n",
       "    <tr>\n",
       "      <th>19</th>\n",
       "      <td>20</td>\n",
       "      <td>Orange</td>\n",
       "      <td>8.30</td>\n",
       "      <td>1.00</td>\n",
       "      <td>0.20</td>\n",
       "      <td>43.0</td>\n",
       "      <td>8.20</td>\n",
       "    </tr>\n",
       "    <tr>\n",
       "      <th>20</th>\n",
       "      <td>21</td>\n",
       "      <td>Papaya</td>\n",
       "      <td>11.00</td>\n",
       "      <td>0.00</td>\n",
       "      <td>0.40</td>\n",
       "      <td>43.0</td>\n",
       "      <td>1.00</td>\n",
       "    </tr>\n",
       "    <tr>\n",
       "      <th>21</th>\n",
       "      <td>22</td>\n",
       "      <td>Passionfruit</td>\n",
       "      <td>22.40</td>\n",
       "      <td>2.20</td>\n",
       "      <td>0.70</td>\n",
       "      <td>97.0</td>\n",
       "      <td>11.20</td>\n",
       "    </tr>\n",
       "    <tr>\n",
       "      <th>22</th>\n",
       "      <td>23</td>\n",
       "      <td>Pear</td>\n",
       "      <td>15.00</td>\n",
       "      <td>0.40</td>\n",
       "      <td>0.10</td>\n",
       "      <td>57.0</td>\n",
       "      <td>10.00</td>\n",
       "    </tr>\n",
       "    <tr>\n",
       "      <th>23</th>\n",
       "      <td>24</td>\n",
       "      <td>Persimmon</td>\n",
       "      <td>18.00</td>\n",
       "      <td>0.00</td>\n",
       "      <td>0.00</td>\n",
       "      <td>81.0</td>\n",
       "      <td>18.00</td>\n",
       "    </tr>\n",
       "    <tr>\n",
       "      <th>24</th>\n",
       "      <td>25</td>\n",
       "      <td>Pineapple</td>\n",
       "      <td>13.12</td>\n",
       "      <td>0.54</td>\n",
       "      <td>0.12</td>\n",
       "      <td>50.0</td>\n",
       "      <td>9.85</td>\n",
       "    </tr>\n",
       "    <tr>\n",
       "      <th>25</th>\n",
       "      <td>26</td>\n",
       "      <td>Plum</td>\n",
       "      <td>11.40</td>\n",
       "      <td>0.70</td>\n",
       "      <td>0.28</td>\n",
       "      <td>46.0</td>\n",
       "      <td>9.92</td>\n",
       "    </tr>\n",
       "    <tr>\n",
       "      <th>26</th>\n",
       "      <td>27</td>\n",
       "      <td>Raspberry</td>\n",
       "      <td>12.00</td>\n",
       "      <td>1.20</td>\n",
       "      <td>0.70</td>\n",
       "      <td>53.0</td>\n",
       "      <td>4.40</td>\n",
       "    </tr>\n",
       "    <tr>\n",
       "      <th>27</th>\n",
       "      <td>28</td>\n",
       "      <td>Strawberry</td>\n",
       "      <td>5.50</td>\n",
       "      <td>0.80</td>\n",
       "      <td>0.40</td>\n",
       "      <td>29.0</td>\n",
       "      <td>5.40</td>\n",
       "    </tr>\n",
       "    <tr>\n",
       "      <th>28</th>\n",
       "      <td>29</td>\n",
       "      <td>Tomato</td>\n",
       "      <td>3.90</td>\n",
       "      <td>0.90</td>\n",
       "      <td>0.20</td>\n",
       "      <td>74.0</td>\n",
       "      <td>2.60</td>\n",
       "    </tr>\n",
       "    <tr>\n",
       "      <th>29</th>\n",
       "      <td>30</td>\n",
       "      <td>Umbu</td>\n",
       "      <td>0.00</td>\n",
       "      <td>0.00</td>\n",
       "      <td>0.00</td>\n",
       "      <td>0.0</td>\n",
       "      <td>0.00</td>\n",
       "    </tr>\n",
       "    <tr>\n",
       "      <th>30</th>\n",
       "      <td>31</td>\n",
       "      <td>Watermelon</td>\n",
       "      <td>8.00</td>\n",
       "      <td>0.60</td>\n",
       "      <td>0.20</td>\n",
       "      <td>30.0</td>\n",
       "      <td>6.00</td>\n",
       "    </tr>\n",
       "  </tbody>\n",
       "</table>\n",
       "</div>"
      ],
      "text/plain": [
       "    id          name  carbohydrates  protein   fat  calories  sugar\n",
       "0    1         Apple          11.40     0.30  0.40      52.0  10.30\n",
       "1    2       Apricot           3.90     0.50  0.10      15.0   3.20\n",
       "2    3        Banana          22.00     1.00  0.20      96.0  17.20\n",
       "3    4    Blackberry           9.00     1.30  0.40      40.0   4.50\n",
       "4    5     Blueberry           5.50     0.00  0.40      29.0   5.40\n",
       "5    6        Cherry          12.00     1.00  0.30      50.0   8.00\n",
       "6    7        Durian          27.10     1.50  5.30     147.0   6.75\n",
       "7    8           Fig          19.00     0.80  0.30      74.0  16.00\n",
       "8    9    Gooseberry          10.00     0.90  0.60      44.0   0.00\n",
       "9   10        Grapes          18.10     0.72  0.16      69.0  15.48\n",
       "10  11    GreenApple           3.10     0.40  0.10      21.0   6.40\n",
       "11  12         Guava          14.00     2.60  1.00      68.0   9.00\n",
       "12  13          Kiwi          15.00     1.10  0.50      61.0   9.00\n",
       "13  14         Lemon           9.00     1.10  0.30      29.0   2.50\n",
       "14  15          Lime           8.40     0.30  0.10      25.0   1.70\n",
       "15  16   Lingonberry          11.30     0.75  0.34      50.0   5.74\n",
       "16  17        Lychee          17.00     0.80  0.44      66.0  15.00\n",
       "17  18         Mango          15.00     0.82  0.38      60.0  13.70\n",
       "18  19         Melon           8.00     0.00  0.00      34.0   8.00\n",
       "19  20        Orange           8.30     1.00  0.20      43.0   8.20\n",
       "20  21        Papaya          11.00     0.00  0.40      43.0   1.00\n",
       "21  22  Passionfruit          22.40     2.20  0.70      97.0  11.20\n",
       "22  23          Pear          15.00     0.40  0.10      57.0  10.00\n",
       "23  24     Persimmon          18.00     0.00  0.00      81.0  18.00\n",
       "24  25     Pineapple          13.12     0.54  0.12      50.0   9.85\n",
       "25  26          Plum          11.40     0.70  0.28      46.0   9.92\n",
       "26  27     Raspberry          12.00     1.20  0.70      53.0   4.40\n",
       "27  28    Strawberry           5.50     0.80  0.40      29.0   5.40\n",
       "28  29        Tomato           3.90     0.90  0.20      74.0   2.60\n",
       "29  30          Umbu           0.00     0.00  0.00       0.0   0.00\n",
       "30  31    Watermelon           8.00     0.60  0.20      30.0   6.00"
      ]
     },
     "execution_count": 2,
     "metadata": {},
     "output_type": "execute_result"
    }
   ],
   "source": [
    "# gets data from fruit database created in Databasing notebook\n",
    "con = sqlite3.connect('fruits.db')\n",
    "fruitdf = pd.read_sql_query(\"SELECT * FROM clean_data\", con)\n",
    "fruitdf\n"
   ]
  },
  {
   "cell_type": "code",
   "execution_count": 3,
   "metadata": {},
   "outputs": [
    {
     "data": {
      "image/png": "[encoded data removed]",
      "text/plain": [
       "<Figure size 432x288 with 2 Axes>"
      ]
     },
     "metadata": {
      "needs_background": "light"
     },
     "output_type": "display_data"
    }
   ],
   "source": [
    "# the heatmap below shows the correlation between the nutrition values\n",
    "# The correlation between calories and carbohydrates is the highest (0.89) so I'll be exploring this relationship further.\n",
    "heat = sns.heatmap(fruitdf.corr(), annot=True)\n",
    "plt.show()"
   ]
  },
  {
   "cell_type": "code",
   "execution_count": 4,
   "metadata": {},
   "outputs": [
    {
     "data": {
      "image/png": "[encoded data removed]",
      "text/plain": [
       "<Figure size 432x288 with 1 Axes>"
      ]
     },
     "metadata": {
      "needs_background": "light"
     },
     "output_type": "display_data"
    }
   ],
   "source": [
    "# There is clearly a linear relationship with calories and carbohydrates.\n",
    "# The outliers are tomato (3.9,74) and durian (27.1,147).\n",
    "x = fruitdf.carbohydrates\n",
    "y = fruitdf.calories\n",
    "plt.scatter(x,y)\n",
    "plt.title('Carbohydrates vs Calories')\n",
    "plt.xlabel('Carbohydrates')\n",
    "plt.ylabel('Calories')\n",
    "plt.show()"
   ]
  },
  {
   "cell_type": "code",
   "execution_count": null,
   "metadata": {},
   "outputs": [],
   "source": [
    "# Looks like the tomato calories is inaccurate, Source: https://www.healthline.com/nutrition/tomato-nutrition, calories is 18\n",
    "# Durian calories is accurately proportioned so I'm not changing it, Source: https://www.healthline.com/nutrition/durian-nutrition\n",
    "# Also, Umba has no data so I'm removing it.\n",
    "fruitdf.calories[28] = 18\n",
    "fruitdf.drop(axis=0, index=29, inplace=True)\n",
    "fruitdf\n"
   ]
  },
  {
   "cell_type": "code",
   "execution_count": 10,
   "metadata": {},
   "outputs": [
    {
     "data": {
      "image/png": "[encoded data removed]",
      "text/plain": [
       "<Figure size 432x288 with 1 Axes>"
      ]
     },
     "metadata": {
      "needs_background": "light"
     },
     "output_type": "display_data"
    }
   ],
   "source": [
    "# Scatterplot after the edits\n",
    "x = fruitdf.carbohydrates\n",
    "y = fruitdf.calories\n",
    "plt.scatter(x,y)\n",
    "plt.title('Carbohydrates vs Calories')\n",
    "plt.xlabel('Carbohydrates')\n",
    "plt.ylabel('Calories')\n",
    "plt.show()"
   ]
  },
  {
   "cell_type": "code",
   "execution_count": 76,
   "metadata": {},
   "outputs": [
    {
     "data": {
      "text/plain": [
       "array([  3.2882937 ,   0.40969746,  -0.93662361,   2.20714291,\n",
       "         7.13046466,  -1.4414186 ,  26.86082184,  -9.2880621 ,\n",
       "         1.65762241, -10.19349365,  10.04931386,   7.4595404 ,\n",
       "        -4.0899801 ,  -8.79285709, -10.06314479,   1.74324575,\n",
       "        -8.1890211 ,  -5.0899801 ,   0.75666341,   8.39180726,\n",
       "        -3.8918981 ,  -1.75643181,  -8.0899801 ,   2.2614584 ,\n",
       "        -6.53688156,  -2.7117063 ,   1.5585814 ,   7.13046466,\n",
       "         3.40969746,  -3.24333659])"
      ]
     },
     "execution_count": 76,
     "metadata": {},
     "output_type": "execute_result"
    }
   ],
   "source": [
    "# Now, I'm going to check if the residuals are independent.\n",
    "# Creating a line of best fit to calculate residuals.\n",
    "a, b = np.polyfit(x,y,1)\n",
    "predicted = np.array([a*i+b for i in x])\n",
    "actual = np.array(y)\n",
    "residuals = actual - predicted\n",
    "residuals\n",
    "\n"
   ]
  },
  {
   "cell_type": "code",
   "execution_count": 77,
   "metadata": {},
   "outputs": [
    {
     "data": {
      "text/plain": [
       "<AxesSubplot:xlabel='carbohydrates', ylabel='calories'>"
      ]
     },
     "execution_count": 77,
     "metadata": {},
     "output_type": "execute_result"
    },
    {
     "data": {
      "image/png": "[encoded data removed]",
      "text/plain": [
       "<Figure size 432x288 with 1 Axes>"
      ]
     },
     "metadata": {
      "needs_background": "light"
     },
     "output_type": "display_data"
    }
   ],
   "source": [
    "# At first glance, the residuals seem independent.\n",
    "sns.residplot(x=x,y=y)"
   ]
  },
  {
   "cell_type": "code",
   "execution_count": 78,
   "metadata": {},
   "outputs": [
    {
     "data": {
      "text/plain": [
       "array([[1.       , 0.2778719],\n",
       "       [0.2778719, 1.       ]])"
      ]
     },
     "execution_count": 78,
     "metadata": {},
     "output_type": "execute_result"
    }
   ],
   "source": [
    "# Correlation coefficient of 0.28 is pretty low. Residuals are weakly correlated with calories.\n",
    "np.corrcoef(residuals,y)"
   ]
  },
  {
   "cell_type": "code",
   "execution_count": 79,
   "metadata": {},
   "outputs": [
    {
     "data": {
      "text/plain": [
       "2.271905629069354"
      ]
     },
     "execution_count": 79,
     "metadata": {},
     "output_type": "execute_result"
    }
   ],
   "source": [
    "# https://www.statology.org/durbin-watson-test-python/\n",
    "# Another way to check if the residuals are independent is to use the Durbin-Watson test. \n",
    "# If the value is between 1.5 and 2.5, 'autocorrelation is not problematic'.\n",
    "from statsmodels.stats.stattools import durbin_watson\n",
    "durbin_watson(residuals)"
   ]
  },
  {
   "cell_type": "code",
   "execution_count": 80,
   "metadata": {},
   "outputs": [
    {
     "data": {
      "image/png": "[encoded data removed]",
      "text/plain": [
       "<Figure size 432x288 with 1 Axes>"
      ]
     },
     "metadata": {
      "needs_background": "light"
     },
     "output_type": "display_data"
    }
   ],
   "source": [
    "# Testing Homoscadasticity, residuals have constant variance.\n",
    "# To test this, I'm going to plot the residuals against predicted values and look at the shape.\n",
    "plt.scatter(predicted,residuals)\n",
    "plt.title('Residuals vs Predicted')\n",
    "plt.xlabel('Predicted')\n",
    "plt.ylabel('Residuals')\n",
    "plt.show()\n",
    "\n",
    "# Besides the outlier, the residuals mostly range from -10 to 10 regardless of the predicted value, looks homosecadastic."
   ]
  },
  {
   "cell_type": "code",
   "execution_count": 89,
   "metadata": {},
   "outputs": [],
   "source": [
    "# Testing Normality, the residuals follow a normal distribution.\n",
    "import statsmodels.api as sm\n",
    "from scipy.stats import norm, normaltest, shapiro\n",
    "import pylab\n"
   ]
  },
  {
   "cell_type": "code",
   "execution_count": 82,
   "metadata": {},
   "outputs": [
    {
     "data": {
      "image/png": "[encoded data removed]",
      "text/plain": [
       "<Figure size 432x288 with 1 Axes>"
      ]
     },
     "metadata": {
      "needs_background": "light"
     },
     "output_type": "display_data"
    }
   ],
   "source": [
    "# Quantile-quantile plot, if the points roughly form a straight line, then the residuals are very likely normally distributed.\n",
    "normresiduals = residuals\n",
    "normresiduals = norm.rvs(size=31)\n",
    "sm.qqplot(normresiduals, line='45')\n",
    "pylab.show()\n",
    "# Does not look like a straight line"
   ]
  },
  {
   "cell_type": "code",
   "execution_count": 84,
   "metadata": {},
   "outputs": [
    {
     "data": {
      "text/plain": [
       "NormaltestResult(statistic=15.834433815457396, pvalue=0.0003644151173928267)"
      ]
     },
     "execution_count": 84,
     "metadata": {},
     "output_type": "execute_result"
    }
   ],
   "source": [
    "# Test for normality, pvalue represents the probability that the residuals are normally distributed.\n",
    "# Since pvalue is very low, the residuals seem to not be normally distributed.\n",
    "normaltest(residuals)"
   ]
  },
  {
   "cell_type": "code",
   "execution_count": 103,
   "metadata": {},
   "outputs": [
    {
     "data": {
      "text/plain": [
       "array([  3.2882937 ,   0.40969746,  -0.93662361,   2.20714291,\n",
       "         7.13046466,  -1.4414186 ,  -9.2880621 ,   1.65762241,\n",
       "       -10.19349365,  10.04931386,   7.4595404 ,  -4.0899801 ,\n",
       "        -8.79285709, -10.06314479,   1.74324575,  -8.1890211 ,\n",
       "        -5.0899801 ,   0.75666341,   8.39180726,  -3.8918981 ,\n",
       "        -1.75643181,  -8.0899801 ,   2.2614584 ,  -6.53688156,\n",
       "        -2.7117063 ,   1.5585814 ,   7.13046466,   3.40969746,\n",
       "        -3.24333659])"
      ]
     },
     "execution_count": 103,
     "metadata": {},
     "output_type": "execute_result"
    }
   ],
   "source": [
    "# I'm going to try to run these normal tests with the durian outlier.\n",
    "nodurianresids = residuals\n",
    "nodurianresids = np.delete(nodurianresids,6)\n",
    "nodurianresids"
   ]
  },
  {
   "cell_type": "code",
   "execution_count": 104,
   "metadata": {},
   "outputs": [
    {
     "data": {
      "image/png": "[encoded data removed]",
      "text/plain": [
       "<Figure size 432x288 with 1 Axes>"
      ]
     },
     "metadata": {
      "needs_background": "light"
     },
     "output_type": "display_data"
    }
   ],
   "source": [
    "normnodurian = nodurianresids\n",
    "normnodurian = norm.rvs(size=31)\n",
    "sm.qqplot(normnodurian, line='45')\n",
    "pylab.show()\n",
    "# Not really a straight line"
   ]
  },
  {
   "cell_type": "code",
   "execution_count": 105,
   "metadata": {},
   "outputs": [
    {
     "data": {
      "text/plain": [
       "NormaltestResult(statistic=1.9543969240471626, pvalue=0.3763640213603355)"
      ]
     },
     "execution_count": 105,
     "metadata": {},
     "output_type": "execute_result"
    }
   ],
   "source": [
    "# High pvalue, the residuals can be assumed to be normally distributed without the outlier.\n",
    "normaltest(nodurianresids)"
   ]
  }
 ],
 "metadata": {
  "interpreter": {
   "hash": "ab2e56e5a4f24cad0c49aa93a4628968ee20258e7f82f5186e5fd37b3b8c369f"
  },
  "kernelspec": {
   "display_name": "Python 3.9.7 64-bit",
   "language": "python",
   "name": "python3"
  },
  "language_info": {
   "codemirror_mode": {
    "name": "ipython",
    "version": 3
   },
   "file_extension": ".py",
   "mimetype": "text/x-python",
   "name": "python",
   "nbconvert_exporter": "python",
   "pygments_lexer": "ipython3",
   "version": "3.9.7"
  },
  "orig_nbformat": 4
 },
 "nbformat": 4,
 "nbformat_minor": 2
}
