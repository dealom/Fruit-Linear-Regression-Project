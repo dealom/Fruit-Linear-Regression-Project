{
 "cells": [
  {
   "cell_type": "code",
   "execution_count": 1,
   "metadata": {},
   "outputs": [],
   "source": [
    "import requests\n",
    "import sqlite3\n",
    "import json\n",
    "# This file is used to create the database and populate it with data from the API"
   ]
  },
  {
   "cell_type": "code",
   "execution_count": 3,
   "metadata": {},
   "outputs": [],
   "source": [
    "r = requests.get('https://www.fruityvice.com/api/fruit/all')\n",
    "#r.json()"
   ]
  },
  {
   "cell_type": "code",
   "execution_count": null,
   "metadata": {},
   "outputs": [],
   "source": [
    "# json has nested dictionary so I'm removing the nested dictionary\n",
    "cleanjson = r.json()\n",
    "for i in range(len(cleanjson)):\n",
    "    for keys in cleanjson[i]['nutritions']:\n",
    "        cleanjson[i][keys] = cleanjson[i]['nutritions'][keys]\n",
    "    cleanjson[i].pop('nutritions')\n",
    "cleanjson"
   ]
  },
  {
   "cell_type": "code",
   "execution_count": 5,
   "metadata": {},
   "outputs": [],
   "source": [
    "# create a database from the raw json data\n",
    "con = sqlite3.connect('fruits.db')\n",
    "cur = con.cursor()\n",
    "sql_create_raw_json_table = '''CREATE TABLE raw_json(\n",
    "                                id INTEGER PRIMARY KEY AUTOINCREMENT,\n",
    "                                raw_text text\n",
    "                            )'''\n",
    "cur.execute('DROP TABLE IF EXISTS raw_json')\n",
    "cur.execute(sql_create_raw_json_table)\n",
    "con.commit()"
   ]
  },
  {
   "cell_type": "code",
   "execution_count": 6,
   "metadata": {},
   "outputs": [],
   "source": [
    "# insert the raw json data into the database\n",
    "list_of_strings = []\n",
    "for row in r.json():\n",
    "    list_of_strings.append(json.dumps(row))\n",
    "\n",
    "list_of_tuples = []\n",
    "for row in list_of_strings:\n",
    "    list_of_tuples.append((row,))\n",
    "cur.executemany(\"INSERT INTO raw_json (raw_text) VALUES (?)\",list_of_tuples)\n",
    "con.commit()\n",
    "con.close()"
   ]
  },
  {
   "cell_type": "code",
   "execution_count": 9,
   "metadata": {},
   "outputs": [],
   "source": [
    "# gets raw data from database\n",
    "def get_raw_data():\n",
    "    con = sqlite3.connect('fruits.db')\n",
    "    cur = con.cursor()\n",
    "    list_of_rows = []\n",
    "    for row in cur.execute('SELECT * from raw_json'):\n",
    "        list_of_rows.append(row)\n",
    "    con.close()\n",
    "    return list_of_rows"
   ]
  },
  {
   "cell_type": "code",
   "execution_count": 12,
   "metadata": {},
   "outputs": [
    {
     "data": {
      "text/plain": [
       "[(1,\n",
       "  '{\"genus\": \"Malus\", \"name\": \"Apple\", \"id\": 6, \"family\": \"Rosaceae\", \"order\": \"Rosales\", \"nutritions\": {\"carbohydrates\": 11.4, \"protein\": 0.3, \"fat\": 0.4, \"calories\": 52, \"sugar\": 10.3}}'),\n",
       " (2,\n",
       "  '{\"genus\": \"Prunus\", \"name\": \"Apricot\", \"id\": 35, \"family\": \"Rosaceae\", \"order\": \"Rosales\", \"nutritions\": {\"carbohydrates\": 3.9, \"protein\": 0.5, \"fat\": 0.1, \"calories\": 15, \"sugar\": 3.2}}'),\n",
       " (3,\n",
       "  '{\"genus\": \"Musa\", \"name\": \"Banana\", \"id\": 1, \"family\": \"Musaceae\", \"order\": \"Zingiberales\", \"nutritions\": {\"carbohydrates\": 22, \"protein\": 1, \"fat\": 0.2, \"calories\": 96, \"sugar\": 17.2}}'),\n",
       " (4,\n",
       "  '{\"genus\": \"Rubus\", \"name\": \"Blackberry\", \"id\": 64, \"family\": \"Rosaceae\", \"order\": \"Rosales\", \"nutritions\": {\"carbohydrates\": 9, \"protein\": 1.3, \"fat\": 0.4, \"calories\": 40, \"sugar\": 4.5}}'),\n",
       " (5,\n",
       "  '{\"genus\": \"Fragaria\", \"name\": \"Blueberry\", \"id\": 33, \"family\": \"Rosaceae\", \"order\": \"Rosales\", \"nutritions\": {\"carbohydrates\": 5.5, \"protein\": 0, \"fat\": 0.4, \"calories\": 29, \"sugar\": 5.4}}'),\n",
       " (6,\n",
       "  '{\"genus\": \"Prunus\", \"name\": \"Cherry\", \"id\": 9, \"family\": \"Rosaceae\", \"order\": \"None\", \"nutritions\": {\"carbohydrates\": 12, \"protein\": 1, \"fat\": 0.3, \"calories\": 50, \"sugar\": 8}}'),\n",
       " (7,\n",
       "  '{\"genus\": \"Durio\", \"name\": \"Durian\", \"id\": 60, \"family\": \"Malvaceae\", \"order\": \"Malvales\", \"nutritions\": {\"carbohydrates\": 27.1, \"protein\": 1.5, \"fat\": 5.3, \"calories\": 147, \"sugar\": 6.75}}'),\n",
       " (8,\n",
       "  '{\"genus\": \"Ficus\", \"name\": \"Fig\", \"id\": 68, \"family\": \"Moraceae\", \"order\": \"Rosales\", \"nutritions\": {\"carbohydrates\": 19, \"protein\": 0.8, \"fat\": 0.3, \"calories\": 74, \"sugar\": 16}}'),\n",
       " (9,\n",
       "  '{\"genus\": \"Ribes\", \"name\": \"Gooseberry\", \"id\": 69, \"family\": \"Grossulariaceae\", \"order\": \"Saxifragales\", \"nutritions\": {\"carbohydrates\": 10, \"protein\": 0.9, \"fat\": 0.6, \"calories\": 44, \"sugar\": 0}}'),\n",
       " (10,\n",
       "  '{\"genus\": \"Vitis\", \"name\": \"Grapes\", \"id\": 47, \"family\": \"Vitaceae\", \"order\": \"Vitales\", \"nutritions\": {\"carbohydrates\": 18.1, \"protein\": 0.72, \"fat\": 0.16, \"calories\": 69, \"sugar\": 15.48}}'),\n",
       " (11,\n",
       "  '{\"genus\": \"Malus\", \"name\": \"GreenApple\", \"id\": 72, \"family\": \"Rosaceae\", \"order\": \"Rosales\", \"nutritions\": {\"carbohydrates\": 3.1, \"protein\": 0.4, \"fat\": 0.1, \"calories\": 21, \"sugar\": 6.4}}'),\n",
       " (12,\n",
       "  '{\"genus\": \"Psidium\", \"name\": \"Guava\", \"id\": 37, \"family\": \"Myrtaceae\", \"order\": \"Myrtales\", \"nutritions\": {\"carbohydrates\": 14, \"protein\": 2.6, \"fat\": 1, \"calories\": 68, \"sugar\": 9}}'),\n",
       " (13,\n",
       "  '{\"genus\": \"Apteryx\", \"name\": \"Kiwi\", \"id\": 66, \"family\": \"Actinidiaceae\", \"order\": \"Struthioniformes\", \"nutritions\": {\"carbohydrates\": 15, \"protein\": 1.1, \"fat\": 0.5, \"calories\": 61, \"sugar\": 9}}'),\n",
       " (14,\n",
       "  '{\"genus\": \"Citrus\", \"name\": \"Lemon\", \"id\": 26, \"family\": \"Rutaceae\", \"order\": \"Sapindales\", \"nutritions\": {\"carbohydrates\": 9, \"protein\": 1.1, \"fat\": 0.3, \"calories\": 29, \"sugar\": 2.5}}'),\n",
       " (15,\n",
       "  '{\"genus\": \"Citrus\", \"name\": \"Lime\", \"id\": 44, \"family\": \"Rutaceae\", \"order\": \"Sapindales\", \"nutritions\": {\"carbohydrates\": 8.4, \"protein\": 0.3, \"fat\": 0.1, \"calories\": 25, \"sugar\": 1.7}}'),\n",
       " (16,\n",
       "  '{\"genus\": \"Vaccinium\", \"name\": \"Lingonberry\", \"id\": 65, \"family\": \"Ericaceae\", \"order\": \"Ericales\", \"nutritions\": {\"carbohydrates\": 11.3, \"protein\": 0.75, \"fat\": 0.34, \"calories\": 50, \"sugar\": 5.74}}'),\n",
       " (17,\n",
       "  '{\"genus\": \"Litchi\", \"name\": \"Lychee\", \"id\": 67, \"family\": \"Sapindaceae\", \"order\": \"Sapindales\", \"nutritions\": {\"carbohydrates\": 17, \"protein\": 0.8, \"fat\": 0.44, \"calories\": 66, \"sugar\": 15}}'),\n",
       " (18,\n",
       "  '{\"genus\": \"Mangifera\", \"name\": \"Mango\", \"id\": 27, \"family\": \"Anacardiaceae\", \"order\": \"Sapindales\", \"nutritions\": {\"carbohydrates\": 15, \"protein\": 0.82, \"fat\": 0.38, \"calories\": 60, \"sugar\": 13.7}}'),\n",
       " (19,\n",
       "  '{\"genus\": \"Cucumis\", \"name\": \"Melon\", \"id\": 41, \"family\": \"Cucurbitaceae\", \"order\": \"Cucurbitaceae\", \"nutritions\": {\"carbohydrates\": 8, \"protein\": 0, \"fat\": 0, \"calories\": 34, \"sugar\": 8}}'),\n",
       " (20,\n",
       "  '{\"genus\": \"Citrus\", \"name\": \"Orange\", \"id\": 2, \"family\": \"Rutaceae\", \"order\": \"Sapindales\", \"nutritions\": {\"carbohydrates\": 8.3, \"protein\": 1, \"fat\": 0.2, \"calories\": 43, \"sugar\": 8.2}}'),\n",
       " (21,\n",
       "  '{\"genus\": \"Carica\", \"name\": \"Papaya\", \"id\": 42, \"family\": \"Caricaceae\", \"order\": \"Caricacea\", \"nutritions\": {\"carbohydrates\": 11, \"protein\": 0, \"fat\": 0.4, \"calories\": 43, \"sugar\": 1}}'),\n",
       " (22,\n",
       "  '{\"genus\": \"Passiflora\", \"name\": \"Passionfruit\", \"id\": 70, \"family\": \"Passifloraceae\", \"order\": \"Malpighiales\", \"nutritions\": {\"carbohydrates\": 22.4, \"protein\": 2.2, \"fat\": 0.7, \"calories\": 97, \"sugar\": 11.2}}'),\n",
       " (23,\n",
       "  '{\"genus\": \"Pyrus\", \"name\": \"Pear\", \"id\": 4, \"family\": \"Rosaceae\", \"order\": \"Rosales\", \"nutritions\": {\"carbohydrates\": 15, \"protein\": 0.4, \"fat\": 0.1, \"calories\": 57, \"sugar\": 10}}'),\n",
       " (24,\n",
       "  '{\"genus\": \"Diospyros\", \"name\": \"Persimmon\", \"id\": 52, \"family\": \"Ebenaceae\", \"order\": \"Rosales\", \"nutritions\": {\"carbohydrates\": 18, \"protein\": 0, \"fat\": 0, \"calories\": 81, \"sugar\": 18}}'),\n",
       " (25,\n",
       "  '{\"genus\": \"Ananas\", \"name\": \"Pineapple\", \"id\": 10, \"family\": \"Bromeliaceae\", \"order\": \"Poales\", \"nutritions\": {\"carbohydrates\": 13.12, \"protein\": 0.54, \"fat\": 0.12, \"calories\": 50, \"sugar\": 9.85}}'),\n",
       " (26,\n",
       "  '{\"genus\": \"Prunus\", \"name\": \"Plum\", \"id\": 71, \"family\": \"Rosaceae\", \"order\": \"Rosales\", \"nutritions\": {\"carbohydrates\": 11.4, \"protein\": 0.7, \"fat\": 0.28, \"calories\": 46, \"sugar\": 9.92}}'),\n",
       " (27,\n",
       "  '{\"genus\": \"Rubus\", \"name\": \"Raspberry\", \"id\": 23, \"family\": \"Rosaceae\", \"order\": \"Rosales\", \"nutritions\": {\"carbohydrates\": 12, \"protein\": 1.2, \"fat\": 0.7, \"calories\": 53, \"sugar\": 4.4}}'),\n",
       " (28,\n",
       "  '{\"genus\": \"Fragaria\", \"name\": \"Strawberry\", \"id\": 3, \"family\": \"Rosaceae\", \"order\": \"Rosales\", \"nutritions\": {\"carbohydrates\": 5.5, \"protein\": 0.8, \"fat\": 0.4, \"calories\": 29, \"sugar\": 5.4}}'),\n",
       " (29,\n",
       "  '{\"genus\": \"Solanum\", \"name\": \"Tomato\", \"id\": 5, \"family\": \"Solanaceae\", \"order\": \"Solanales\", \"nutritions\": {\"carbohydrates\": 3.9, \"protein\": 0.9, \"fat\": 0.2, \"calories\": 74, \"sugar\": 2.6}}'),\n",
       " (30,\n",
       "  '{\"genus\": \"Spondias\", \"name\": \"Umbu\", \"id\": 73, \"family\": \"Anacardiaceae\", \"order\": \"0\", \"nutritions\": {\"carbohydrates\": 0, \"protein\": 0, \"fat\": 0, \"calories\": 0, \"sugar\": 0}}'),\n",
       " (31,\n",
       "  '{\"genus\": \"Citrullus\", \"name\": \"Watermelon\", \"id\": 25, \"family\": \"Cucurbitaceae\", \"order\": \"Cucurbitales\", \"nutritions\": {\"carbohydrates\": 8, \"protein\": 0.6, \"fat\": 0.2, \"calories\": 30, \"sugar\": 6}}')]"
      ]
     },
     "execution_count": 12,
     "metadata": {},
     "output_type": "execute_result"
    }
   ],
   "source": [
    "raw_data = get_raw_data()\n",
    "raw_data"
   ]
  },
  {
   "cell_type": "code",
   "execution_count": 18,
   "metadata": {},
   "outputs": [],
   "source": [
    "# column names that I want to keep, which includes the name of the fruit and the nutrition info\n",
    "column_names = ['name','carbohydrates','protein','fat','calories','sugar']\n"
   ]
  },
  {
   "cell_type": "code",
   "execution_count": 22,
   "metadata": {},
   "outputs": [],
   "source": [
    "# prunes the raw data to only include the columns I want \n",
    "def data_extractor(list_of_tuples):\n",
    "    list_of_relevant_info = [] # contains the relevant info which is a list of dictionaries\n",
    "\n",
    "    for x,y in list_of_tuples: # x is id, y is raw_text\n",
    "        temp_dict = {} # temporary dictionary to store the relevant info\n",
    "        parsed_json = json.loads(y) # parse the json, is a dictionary\n",
    "\n",
    "        # The raw json has a nested dictionary so I'm putting the nested info into the main dictionary\n",
    "        for key in parsed_json['nutritions']:\n",
    "            parsed_json[key] = parsed_json['nutritions'][key]\n",
    "    \n",
    "        for k,v in parsed_json.items(): # if key is in column_names, then add it to the dictionary, which has the relevant info\n",
    "            if k in column_names:\n",
    "                temp_dict[k] = v\n",
    "        \n",
    "        list_of_relevant_info.append(temp_dict) \n",
    "    \n",
    "    return list_of_relevant_info\n",
    "\n",
    "\n"
   ]
  },
  {
   "cell_type": "code",
   "execution_count": 24,
   "metadata": {},
   "outputs": [],
   "source": [
    "cleaned_data = data_extractor(raw_data)"
   ]
  },
  {
   "cell_type": "code",
   "execution_count": 25,
   "metadata": {},
   "outputs": [],
   "source": [
    "#['name','carbohydrates','protein','fat','calories','sugar']\n",
    "sql_create_cleaned_table = '''CREATE TABLE clean_data(\n",
    "                                id INTEGER PRIMARY KEY AUTOINCREMENT,\n",
    "                                name text,\n",
    "                                carbohydrates real,\n",
    "                                protein real,\n",
    "                                fat real,\n",
    "                                calories real,\n",
    "                                sugar real\n",
    "                                )'''"
   ]
  },
  {
   "cell_type": "code",
   "execution_count": 26,
   "metadata": {},
   "outputs": [],
   "source": [
    "con = sqlite3.connect('fruits.db')\n",
    "cur = con.cursor()\n",
    "cur.execute('DROP TABLE IF EXISTS clean_data')\n",
    "cur.execute(sql_create_cleaned_table)\n",
    "con.close()"
   ]
  },
  {
   "cell_type": "code",
   "execution_count": 27,
   "metadata": {},
   "outputs": [],
   "source": [
    "# creates list of tuples containing all the values so I can insert it into the database\n",
    "def json_extractor(list_of_dicts):\n",
    "    list_of_tuples = []\n",
    "    for row in list_of_dicts: \n",
    "\n",
    "        temp_tuple = tuple(x for x in row.values())\n",
    "        list_of_tuples.append(temp_tuple)\n",
    "    return list_of_tuples\n"
   ]
  },
  {
   "cell_type": "code",
   "execution_count": null,
   "metadata": {},
   "outputs": [],
   "source": [
    "holder = json_extractor(cleaned_data)\n",
    "holder"
   ]
  },
  {
   "cell_type": "code",
   "execution_count": 29,
   "metadata": {},
   "outputs": [],
   "source": [
    "# ['name','carbohydrates','protein','fat','calories','sugar']\n",
    "# insert the list of tuples into the database\n",
    "con = sqlite3.connect('fruits.db')\n",
    "cur = con.cursor()\n",
    "cur.executemany(\"INSERT INTO clean_data (name,carbohydrates,protein,fat,calories,sugar) VALUES (?,?,?,?,?,?)\",holder)\n",
    "con.commit()\n",
    "con.close()\n"
   ]
  }
 ],
 "metadata": {
  "interpreter": {
   "hash": "ab2e56e5a4f24cad0c49aa93a4628968ee20258e7f82f5186e5fd37b3b8c369f"
  },
  "kernelspec": {
   "display_name": "Python 3.9.7 64-bit",
   "language": "python",
   "name": "python3"
  },
  "language_info": {
   "codemirror_mode": {
    "name": "ipython",
    "version": 3
   },
   "file_extension": ".py",
   "mimetype": "text/x-python",
   "name": "python",
   "nbconvert_exporter": "python",
   "pygments_lexer": "ipython3",
   "version": "3.9.7"
  },
  "orig_nbformat": 4
 },
 "nbformat": 4,
 "nbformat_minor": 2
}
